{
  "nbformat": 4,
  "nbformat_minor": 0,
  "metadata": {
    "colab": {
      "provenance": []
    },
    "kernelspec": {
      "name": "python3",
      "display_name": "Python 3"
    },
    "language_info": {
      "name": "python"
    }
  },
  "cells": [
    {
      "cell_type": "code",
      "execution_count": 16,
      "metadata": {
        "id": "FKVMNdqYZEwa"
      },
      "outputs": [],
      "source": [
        "import pandas as pd\n",
        "import requests #helps us fetch data from api\n",
        "import numpy as np\n",
        "from sklearn.model_selection import train_test_split\n",
        "from sklearn.preprocessing import LabelEncoder #converts categorical valus into numerical values\n",
        "from sklearn.ensemble import RandomForestClassifier, RandomForestRegressor\n",
        "from sklearn.metrics import mean_squared_error, r2_score#to measure accuracy of our prediction\n",
        "from datetime import datetime, timedelta #to handle data and time\n",
        "import pytz #to handle timezones\n",
        "from IPython import get_ipython\n",
        "from IPython.display import display\n"
      ]
    },
    {
      "cell_type": "code",
      "source": [
        "API_KEY = 'OPENWEATHER_API_KEY' #from open weather map api\n",
        "BASE_URL = 'hhttps://api.openweathermap.org/data/2.5/' #base url for making API requests"
      ],
      "metadata": {
        "id": "_dPmqRGFdq5y"
      },
      "execution_count": 17,
      "outputs": []
    },
    {
      "cell_type": "markdown",
      "source": [
        "fetching the currebt weather data"
      ],
      "metadata": {
        "id": "dMAr9ggYf5qa"
      }
    },
    {
      "cell_type": "code",
      "source": [
        "import requests   # make sure this import is executed once\n",
        "\n",
        "BASE_URL = \"https://api.openweathermap.org/data/2.5/\"\n",
        "API_KEY  = \"OPENWEATHER_API_KEY\"          # ← put your real key here\n",
        "\n",
        "def get_current_weather(city):\n",
        "    # 1. build request URL  (note the '=' after appid)\n",
        "    url = f\"{BASE_URL}weather?q={city}&appid={API_KEY}&units=metric\"\n",
        "\n",
        "    # 2. call the API correctly\n",
        "    response = requests.get(url)        # ← FIXED\n",
        "    data = response.json()\n",
        "\n",
        "    # 3. extract the fields your weather_view() expects\n",
        "    return {\n",
        "        \"current_temp\":     data[\"main\"][\"temp\"],\n",
        "        \"feels_like\":       data[\"main\"][\"feels_like\"],\n",
        "        \"temp_min\":         data[\"main\"][\"temp_min\"],\n",
        "        \"temp_max\":         data[\"main\"][\"temp_max\"],\n",
        "        \"humidity\":         data[\"main\"][\"humidity\"],\n",
        "        \"pressure\":         data[\"main\"][\"pressure\"],\n",
        "        \"description\":      data[\"weather\"][0][\"description\"],\n",
        "        \"country\":          data[\"sys\"][\"country\"],\n",
        "\n",
        "        # use .get so code doesn’t crash if field is missing\n",
        "        \"wind_gust_dir\":    data[\"wind\"].get(\"deg\", 0),\n",
        "        \"wind_gust_speed\":  data[\"wind\"].get(\"gust\", 0),\n",
        "    }\n"
      ],
      "metadata": {
        "id": "rMdEyab-f4J6"
      },
      "execution_count": 26,
      "outputs": []
    },
    {
      "cell_type": "markdown",
      "source": [
        "read and clean historical data"
      ],
      "metadata": {
        "id": "jv88jtbbiBG8"
      }
    },
    {
      "cell_type": "code",
      "source": [
        "def read_historical_data(file_path):\n",
        "  df = pd.read_csv('/content/weather.csv')\n",
        "  df = df.dropna()\n",
        "  df = df.drop_duplicates()\n",
        "  return df\n",
        "  df = df.drop_duplicates\n",
        "  return df\n",
        "  df = df.drop_duplicates()\n",
        "  return df\n",
        "  df = df.drop_duplicates()\n",
        "  return df"
      ],
      "metadata": {
        "id": "_wYklbCch-4w"
      },
      "execution_count": 35,
      "outputs": []
    },
    {
      "cell_type": "code",
      "source": [
        "def prepare_data(data):\n",
        "  le = LabelEncoder()\n",
        "  data['WindGustDir'] = le.fit_transform(data['WindGustDir'])\n",
        "  data['RainTomorrow'] = le.fit_transform(data['RainTomorrow'])\n",
        "\n",
        "  x = data[['MinTemp','MaxTemp','WindGustDir','WindGustSpeed','Humidity','Pressure','Temp']]\n",
        "  y = data['RainTomorrow']\n",
        "  return x,y,le"
      ],
      "metadata": {
        "id": "m7FOLlPqm9dH"
      },
      "execution_count": 36,
      "outputs": []
    },
    {
      "cell_type": "code",
      "source": [
        "def train_rain_model(x,y):\n",
        "  x_train, x_test, y_train, y_test = train_test_split(x,y,test_size=0.2,random_state=42)\n",
        "  model = RandomForestClassifier(n_estimators=100, random_state=42)\n",
        "  model.fit(x_train,y_train)\n",
        "  y_pred = model.predict(x_test)\n",
        "  print(\"mean squared error for rain model\")\n",
        "  print(mean_squared_error(y_test,y_pred))\n",
        "  return model"
      ],
      "metadata": {
        "id": "nIIz6ntbuHVS"
      },
      "execution_count": 37,
      "outputs": []
    },
    {
      "cell_type": "code",
      "source": [
        "def prepare_regression_data(data, feature):\n",
        "  x,y = [], []\n",
        "  # The loop should go up to the second-to-last element (len(data) - 1)\n",
        "  # to predict the next element at index i + 1.\n",
        "  # len(data) gives the number of rows. The last index is len(data) - 1.\n",
        "  # We iterate up to len(data) - 1 to access index i and i+1.\n",
        "  for i in range(len(data) - 1):\n",
        "    x.append(data[feature].iloc[i])\n",
        "    y.append(data[feature].iloc[i+1])\n",
        "  x = np.array(x).reshape(-1,1)\n",
        "  y = np.array(y)\n",
        "  return x, y"
      ],
      "metadata": {
        "id": "Ps4uAl4-vH1c"
      },
      "execution_count": 46,
      "outputs": []
    },
    {
      "cell_type": "code",
      "source": [
        "def train_regression_model(x,y):\n",
        "  model = RandomForestRegressor(n_estimators=100, random_state=42)\n",
        "  model.fit(x,y)\n",
        "  return model"
      ],
      "metadata": {
        "id": "u4_cwGxtweTM"
      },
      "execution_count": 47,
      "outputs": []
    },
    {
      "cell_type": "markdown",
      "source": [
        "predicitng future"
      ],
      "metadata": {
        "id": "DnybUTUbwzsy"
      }
    },
    {
      "cell_type": "code",
      "source": [
        "def predict_future(model,current_value):\n",
        "  predictions = [current_value]\n",
        "\n",
        "  for i in range(5):\n",
        "    next_value = model.predict(np.array(predictions[-1]).reshape(1,-1))\n",
        "    predictions.append(next_value[0])\n",
        "  return predictions[1:]"
      ],
      "metadata": {
        "id": "YRYBG-9cwy0l"
      },
      "execution_count": 48,
      "outputs": []
    },
    {
      "cell_type": "markdown",
      "source": [
        "weather analysis function"
      ],
      "metadata": {
        "id": "sWeBbeos_sPa"
      }
    },
    {
      "cell_type": "code",
      "source": [
        "import pandas as pd\n",
        "from datetime import datetime, timedelta\n",
        "import pytz\n",
        "\n",
        "# ───────────────────────────────────────────────\n",
        "#  WEATHER-VIEW  (cleaned-up version)\n",
        "# ───────────────────────────────────────────────\n",
        "def weather_view():\n",
        "    # 1)  Ask for a city and pull current weather\n",
        "    # -------------------------------------------------\n",
        "    city = input(\"Enter any city name : \").strip()\n",
        "    current_weather = get_current_weather(city)                 # ← your helper\n",
        "    historical_data = read_historical_data(\"/content/sonar data.csv\")\n",
        "\n",
        "    # 2)  Train the rain-/label encoder model\n",
        "    # -------------------------------------------------\n",
        "    X, y, le = prepare_data(historical_data)\n",
        "    rain_model = train_rain_model(X, y)\n",
        "\n",
        "    # 3)  Convert wind degrees → compass point\n",
        "    # -------------------------------------------------\n",
        "    wind_deg = current_weather[\"wind_gust_dir\"] % 360\n",
        "    compass_points = [\n",
        "        (\"N\",   348.75, 360.0), (\"N\",   0.0,   11.25),\n",
        "        (\"NNE\", 11.25,  33.75), (\"NE\",  33.75, 56.25),\n",
        "        (\"ENE\", 56.25,  78.75), (\"E\",   78.75,101.25),\n",
        "        (\"ESE\",101.25, 123.75), (\"SE\", 123.75,146.25),\n",
        "        (\"SSE\",146.25, 168.75), (\"S\",  168.75,191.25),\n",
        "        (\"SSW\",191.25, 213.75), (\"SW\", 213.75,236.25),\n",
        "        (\"WSW\",236.25, 258.75), (\"W\",  258.75,281.25),\n",
        "        (\"WNW\",281.25, 303.75), (\"NW\", 303.75,326.25),\n",
        "        (\"NNW\",326.25, 348.75),\n",
        "    ]\n",
        "    compass_direction = next(pt for pt, start, end in compass_points\n",
        "                              if start <= wind_deg < end)\n",
        "    compass_direction_encoded = (\n",
        "        le.transform([compass_direction])[0]\n",
        "        if compass_direction in le.classes_\n",
        "        else -1\n",
        "    )\n",
        "\n",
        "    # 4)  Build the single-row “current” dataframe\n",
        "    # -------------------------------------------------\n",
        "    current_row = {\n",
        "        \"MinTemp\":        current_weather[\"temp_min\"],\n",
        "        \"MaxTemp\":        current_weather[\"temp_max\"],\n",
        "        \"WindGustDir\":    compass_direction_encoded,\n",
        "        \"WindGustSpeed\":  current_weather[\"wind_gust_speed\"],  # note lowercase key\n",
        "        \"Humidity\":       current_weather[\"humidity\"],\n",
        "        \"Pressure\":       current_weather[\"pressure\"],\n",
        "        \"Temp\":           current_weather[\"current_temp\"],\n",
        "    }\n",
        "    rain_prediction = bool(rain_model.predict(pd.DataFrame([current_row]))[0])\n",
        "\n",
        "    # 5)  Regression models for future temp & humidity\n",
        "    # -------------------------------------------------\n",
        "    X_temp, y_temp = prepare_regression_data(historical_data, \"Temp\")\n",
        "    X_hum,  y_hum  = prepare_regression_data(historical_data, \"Humidity\")\n",
        "    temp_model = train_regression_model(X_temp, y_temp)\n",
        "    hum_model  = train_regression_model(X_hum,  y_hum)\n",
        "\n",
        "    future_temp     = predict_future(temp_model, current_weather[\"temp_min\"])\n",
        "    future_humidity = predict_future(hum_model,  current_weather[\"humidity\"])\n",
        "\n",
        "    # 6)  Build labels for the next 5 whole hours\n",
        "    # -------------------------------------------------\n",
        "    tz = pytz.timezone(\"Asia/Karachi\")\n",
        "    now = datetime.now(tz)\n",
        "    next_hour = (now + timedelta(hours=1)).replace(minute=0, second=0, microsecond=0)\n",
        "    future_times = [(next_hour + timedelta(hours=i)).strftime(\"%H:00\") for i in range(5)]\n",
        "\n",
        "    # 7)  Pretty-print everything\n",
        "    # -------------------------------------------------\n",
        "    print(f\"\\nCity                : {city}, {current_weather['country']}\")\n",
        "    print(f\"Current Temperature : {current_weather['current_temp']} °C\")\n",
        "    print(f\"Feels Like          : {current_weather['feels_like']} °C\")\n",
        "    print(f\"Min Temperature     : {current_weather['temp_min']} °C\")\n",
        "    print(f\"Max Temperature     : {current_weather['temp_max']} °C\")\n",
        "    print(f\"Humidity            : {current_weather['humidity']} %\")\n",
        "    print(f\"Weather Condition   : {current_weather['description']}\")\n",
        "    print(f\"Rain Expected?      : {'Yes' if rain_prediction else 'No'}\")\n",
        "\n",
        "    print(\"\\nFuture Temperature Predictions:\")\n",
        "    for t, temp in zip(future_times, future_temp):\n",
        "        print(f\"{t}: {round(temp,1)} °C\")\n",
        "\n",
        "    print(\"\\nFuture Humidity Predictions:\")\n",
        "    for t, hum in zip(future_times, future_humidity):\n",
        "        print(f\"{t}: {round(hum,1)} %\")\n",
        "\n",
        "\n",
        "weather_view()"
      ],
      "metadata": {
        "colab": {
          "base_uri": "https://localhost:8080/"
        },
        "id": "OG7aU7lA_peD",
        "outputId": "e55c5dad-647e-4b32-b2f4-53533b5d2fa5"
      },
      "execution_count": 57,
      "outputs": [
        {
          "output_type": "stream",
          "name": "stdout",
          "text": [
            "Enter any city name : malappuram\n",
            "mean squared error for rain model\n",
            "0.1506849315068493\n",
            "\n",
            "City                : malappuram, IN\n",
            "Current Temperature : 29.09 °C\n",
            "Feels Like          : 34.77 °C\n",
            "Min Temperature     : 29.09 °C\n",
            "Max Temperature     : 29.09 °C\n",
            "Humidity            : 79 %\n",
            "Weather Condition   : broken clouds\n",
            "Rain Expected?      : Yes\n",
            "\n",
            "Future Temperature Predictions:\n",
            "12:00: 21.8 °C\n",
            "13:00: 21.3 °C\n",
            "14:00: 19.8 °C\n",
            "15:00: 18.2 °C\n",
            "16:00: 16.8 °C\n",
            "\n",
            "Future Humidity Predictions:\n",
            "12:00: 54.0 %\n",
            "13:00: 58.1 %\n",
            "14:00: 54.2 %\n",
            "15:00: 58.1 %\n",
            "16:00: 54.2 %\n"
          ]
        }
      ]
    },
    {
      "cell_type": "code",
      "source": [],
      "metadata": {
        "id": "9RjLd-xeMmFI"
      },
      "execution_count": null,
      "outputs": []
    }
  ]
}
